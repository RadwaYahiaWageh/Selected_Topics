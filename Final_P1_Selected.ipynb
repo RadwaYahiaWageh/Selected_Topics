{
  "nbformat": 4,
  "nbformat_minor": 0,
  "metadata": {
    "colab": {
      "provenance": [],
      "gpuType": "T4"
    },
    "kernelspec": {
      "name": "python3",
      "display_name": "Python 3"
    },
    "language_info": {
      "name": "python"
    },
    "accelerator": "GPU"
  },
  "cells": [
    {
      "cell_type": "code",
      "execution_count": null,
      "metadata": {
        "id": "Sq3DJm_usTd7",
        "colab": {
          "base_uri": "https://localhost:8080/"
        },
        "outputId": "abd557e7-e3b6-4e10-c00e-05b9fe5b1245"
      },
      "outputs": [
        {
          "output_type": "stream",
          "name": "stdout",
          "text": [
            "Number of missing values:\n",
            "Pregnancies                 0\n",
            "Glucose                     0\n",
            "BloodPressure               0\n",
            "SkinThickness               0\n",
            "Insulin                     0\n",
            "BMI                         0\n",
            "DiabetesPedigreeFunction    0\n",
            "Age                         0\n",
            "dtype: int64\n",
            "Shape of X_train: (614, 8)\n",
            "Shape of X_test: (154, 8)\n",
            "Shape of y_train: (614,)\n",
            "Shape of y_test: (154,)\n"
          ]
        }
      ],
      "source": [
        "import pandas as pd\n",
        "from sklearn.model_selection import train_test_split\n",
        "\n",
        "# Importing heart disease dataset from github\n",
        "data = pd.read_csv(\"/content/drive/MyDrive/diabetes.csv\")\n",
        "\n",
        "\n",
        "# Selecting Input and Output data\n",
        "X = data.drop('Outcome', axis=1)\n",
        "y = data['Outcome']\n",
        "\n",
        "\n",
        "# Printing the number of missing values\n",
        "print(\"Number of missing values:\")\n",
        "print(X.isnull().sum())\n",
        "\n",
        "\n",
        "# Spliting the data into training and test sets:\n",
        "# Assuming X is your features and y is your target variable\n",
        "X_train, X_test, y_train, y_test = train_test_split(X, y, test_size=0.2, random_state=42)\n",
        "\n",
        "# Printing the shapes of the resulting sets\n",
        "print(\"Shape of X_train:\", X_train.shape)\n",
        "print(\"Shape of X_test:\", X_test.shape)\n",
        "print(\"Shape of y_train:\", y_train.shape)\n",
        "print(\"Shape of y_test:\", y_test.shape)"
      ]
    },
    {
      "cell_type": "markdown",
      "source": [
        "## Particle Swarm Optimization algorithm (PSO )"
      ],
      "metadata": {
        "id": "PVKvb4ta7Lxm"
      }
    },
    {
      "cell_type": "code",
      "source": [
        "import numpy as np\n",
        "from sklearn.model_selection import train_test_split\n",
        "from sklearn.metrics import accuracy_score\n",
        "from sklearn.svm import SVC\n",
        "import time\n",
        "\n",
        "class Particle:\n",
        "    def __init__(self, dim):\n",
        "        self.position = np.random.rand(dim)\n",
        "        self.velocity = np.random.rand(dim)\n",
        "        self.best_position = self.position\n",
        "        self.best_fitness = 0\n",
        "\n",
        "def objective_function(hyperparameters):\n",
        "\n",
        "    # Extract hyperparameters\n",
        "    C, gamma = hyperparameters\n",
        "\n",
        "    if(C < 0):\n",
        "      C *= -1\n",
        "    if(gamma < 0):\n",
        "      gamma *= -1\n",
        "\n",
        "    # Create an SVM model with the given hyperparameters\n",
        "    model = SVC(C=C, gamma=gamma)\n",
        "\n",
        "    #Training the model\n",
        "    model.fit(X_train, y_train)\n",
        "\n",
        "    # Evaluate the model using accuracy\n",
        "    y_pred = model.predict(X_test)\n",
        "    accuracy = accuracy_score(y_test, y_pred)\n",
        "\n",
        "\n",
        "    return accuracy\n",
        "\n",
        "\n",
        "\n",
        "\n",
        "def update_velocity(particle, global_best_position, inertia_weight=0.9, c1=0.5, c2=0.3):\n",
        "    inertia_term = inertia_weight * particle.velocity\n",
        "    cognitive_term = c1 * np.random.rand() * (particle.best_position - particle.position)\n",
        "    social_term = c2 * np.random.rand() * (global_best_position - particle.position)\n",
        "    particle.velocity = inertia_term + cognitive_term + social_term\n",
        "\n",
        "\n",
        "\n",
        "\n",
        "def pso_classification(num_particles, dim, max_iter):\n",
        "    particles = [Particle(dim) for _ in range(num_particles)]\n",
        "    global_best_position = None\n",
        "    global_best_accuracy = float('-inf')\n",
        "\n",
        "    for _ in range(max_iter):\n",
        "        for particle in particles:\n",
        "            accuracy = objective_function(particle.position)\n",
        "\n",
        "            if accuracy > particle.best_fitness:\n",
        "                particle.best_fitness = accuracy\n",
        "                particle.best_position = particle.position\n",
        "\n",
        "            if accuracy > global_best_accuracy:\n",
        "                global_best_accuracy = accuracy\n",
        "                global_best_position = particle.position\n",
        "\n",
        "        for particle in particles:\n",
        "            update_velocity(particle, global_best_position)\n",
        "            particle.position += particle.velocity\n",
        "\n",
        "    return global_best_position, global_best_accuracy\n",
        "\n",
        "\n",
        "if __name__ == \"__main__\":\n",
        "\n",
        "    num_particles = 30\n",
        "    dim = 2\n",
        "    max_iter = 100\n",
        "\n",
        "    start_time = time.time()\n",
        "    best_position, best_accuracy = pso_classification(num_particles, dim, max_iter)\n",
        "    pso_time = time.time() - start_time\n",
        "\n",
        "\n",
        "    print(\"PSO Time:\", pso_time)\n",
        "    print(\"Best Accuracy: \", best_accuracy)"
      ],
      "metadata": {
        "colab": {
          "base_uri": "https://localhost:8080/"
        },
        "id": "pr0e4WJL65VO",
        "outputId": "401e1d23-b1c3-437d-aca7-41374a1d1c8a"
      },
      "execution_count": null,
      "outputs": [
        {
          "output_type": "stream",
          "name": "stdout",
          "text": [
            "PSO Time: 102.69166398048401\n",
            "Best Accuracy:  0.6428571428571429\n"
          ]
        }
      ]
    },
    {
      "cell_type": "markdown",
      "source": [
        "## Ant colony optimization algorithm (ACO)"
      ],
      "metadata": {
        "id": "_BuljlO57R_N"
      }
    },
    {
      "cell_type": "code",
      "source": [
        "import numpy as np\n",
        "from sklearn.model_selection import train_test_split\n",
        "from sklearn.ensemble import RandomForestClassifier\n",
        "from sklearn.metrics import accuracy_score\n",
        "from sklearn.svm import SVC\n",
        "\n",
        "\n",
        "\n",
        "# Ant Colony Optimization-inspired feature selection\n",
        "class AntColony:\n",
        "    def __init__(self, num_ants, num_iterations, num_params, q0=0.9, beta=1, rho=0.1):\n",
        "        self.num_ants = num_ants\n",
        "        self.num_iterations = num_iterations\n",
        "        self.num_params = num_params\n",
        "        self.q0 = q0\n",
        "        self.beta = beta\n",
        "        self.rho = rho\n",
        "\n",
        "    def run(self):\n",
        "        #initializing an array filled with ones\n",
        "        pheromones = np.ones((self.num_params))\n",
        "        best_features = None\n",
        "        best_accuracy = 0.0\n",
        "        ant_features = self.generate_ant_features(self.num_params)\n",
        "\n",
        "        for _ in range(self.num_iterations):\n",
        "            ant_accuracy = self.evaluate_ant(ant_features)\n",
        "\n",
        "            if ant_accuracy > best_accuracy:\n",
        "                best_accuracy = ant_accuracy\n",
        "                best_features = ant_features\n",
        "\n",
        "            # Update pheromones\n",
        "            pheromones *= (1 - self.rho)\n",
        "\n",
        "\n",
        "        return best_features, best_accuracy\n",
        "\n",
        "\n",
        "    def generate_ant_features(self, num_params):\n",
        "        # Assume each feature is represented by an ant\n",
        "        #initialize an array\n",
        "        ant_features = np.random.choice([0.001, 10], size=num_params)\n",
        "        return ant_features\n",
        "\n",
        "\n",
        "    def evaluate_ant(self, ant_features):\n",
        "\n",
        "        C = ant_features[0]\n",
        "        gamma = ant_features[1]\n",
        "        # Train a classifier and evaluate accuracy\n",
        "        model = SVC(kernel='linear')\n",
        "\n",
        "        #Training the model\n",
        "        model.fit(X_train, y_train)\n",
        "\n",
        "        # Evaluate the model using accuracy\n",
        "        y_pred = model.predict(X_test)\n",
        "        accuracy = accuracy_score(y_test, y_pred)\n",
        "\n",
        "        return accuracy\n",
        "\n",
        "\n",
        "\n",
        "\n",
        "if __name__ == \"__main__\":\n",
        "\n",
        "  start_time = time.time()\n",
        "  # Create an instance of AntColonyFeatureSelection\n",
        "  aco_fs = AntColony(num_ants=10, num_iterations=100, num_params=2)\n",
        "\n",
        "  # Run ACO-inspired feature selection\n",
        "  best_features, best_accuracy = aco_fs.run()\n",
        "  aco_time = time.time() - start_time\n",
        "\n",
        "  # Display the results\n",
        "  print(\"ACO Time:\", aco_time)\n",
        "  print(\"Best Accuracy: \", best_accuracy)"
      ],
      "metadata": {
        "colab": {
          "base_uri": "https://localhost:8080/"
        },
        "id": "G1QniS5Z7WEo",
        "outputId": "4b1467bf-269c-4302-f715-eb715849063e"
      },
      "execution_count": null,
      "outputs": [
        {
          "output_type": "stream",
          "name": "stdout",
          "text": [
            "ACO Time: 350.55983567237854\n",
            "Best Accuracy:  0.7532467532467533\n"
          ]
        }
      ]
    },
    {
      "cell_type": "markdown",
      "source": [
        "## Conclusion"
      ],
      "metadata": {
        "id": "EqJKux-aUCu4"
      }
    },
    {
      "cell_type": "markdown",
      "source": [
        " ACO demonstrated better accuracy, it came at the cost of increased computational time compared to PSO."
      ],
      "metadata": {
        "id": "56Ncri1yUNrI"
      }
    },
    {
      "cell_type": "markdown",
      "source": [
        "\n",
        "1.  ACO took 350.56 units of time and achieved a best accuracy of approximately 75.32%\n",
        "2.  PSO took 102.69 units of time and achieved a best accuracy of around 64.29%.\n",
        "\n"
      ],
      "metadata": {
        "id": "_MKQeGdYUtMk"
      }
    }
  ]
}